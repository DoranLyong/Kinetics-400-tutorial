{
  "nbformat": 4,
  "nbformat_minor": 0,
  "metadata": {
    "colab": {
      "name": "Kinetics-400.ipynb",
      "provenance": [],
      "collapsed_sections": []
    },
    "kernelspec": {
      "name": "python3",
      "display_name": "Python 3"
    },
    "language_info": {
      "name": "python"
    }
  },
  "cells": [
    {
      "cell_type": "markdown",
      "source": [
        "# Reference \n",
        "* [YutaroOgawa's github](https://github.com/YutaroOgawa/pytorch_advanced/blob/master/9_video_classification_eco/9-4_3_ECO_DataLoader.ipynb) ← code reference \n",
        "* [ActivityNet/Crawler/Kinetics](https://github.com/activitynet/ActivityNet/tree/master/Crawler/Kinetics) ← baseline with python2 execution\n"
      ],
      "metadata": {
        "id": "n0Lh_yVoXwj7"
      }
    },
    {
      "cell_type": "markdown",
      "source": [
        "# 1. Prerequisite "
      ],
      "metadata": {
        "id": "NfVLuwOsYOO7"
      }
    },
    {
      "cell_type": "markdown",
      "source": [
        "## 1-1. get the example repository \n"
      ],
      "metadata": {
        "id": "WpWK-mKtYQRs"
      }
    },
    {
      "cell_type": "code",
      "execution_count": 1,
      "metadata": {
        "colab": {
          "base_uri": "https://localhost:8080/"
        },
        "id": "Bt8eUtBJXr6D",
        "outputId": "dc3618db-2b31-4fb5-b3e2-2bf95bf5d517"
      },
      "outputs": [
        {
          "output_type": "stream",
          "name": "stdout",
          "text": [
            "Initialized empty Git repository in /content/.git/\n",
            "Updating origin\n",
            "remote: Enumerating objects: 39, done.\u001b[K\n",
            "remote: Counting objects: 100% (39/39), done.\u001b[K\n",
            "remote: Compressing objects: 100% (31/31), done.\u001b[K\n",
            "remote: Total 39 (delta 2), reused 33 (delta 2), pack-reused 0\u001b[K\n",
            "Unpacking objects: 100% (39/39), done.\n",
            "From https://github.com/DoranLyong/Kinetics-400-tutorial\n",
            " * [new branch]      main       -> origin/main\n"
          ]
        }
      ],
      "source": [
        "!git init . \n",
        "!git remote add -f origin https://github.com/DoranLyong/Kinetics-400-tutorial\n",
        "!git config core.sparseCheckout true"
      ]
    },
    {
      "cell_type": "code",
      "source": [
        "!echo \"dataset\" >> .git/info/sparse-checkout\n",
        "!echo \"utils\" >> .git/info/sparse-checkout\n",
        "\n",
        "!cat .git/info/sparse-checkout"
      ],
      "metadata": {
        "colab": {
          "base_uri": "https://localhost:8080/"
        },
        "id": "5g4h5uS-YdC9",
        "outputId": "c1742364-df29-419d-c2a3-1c65a084dc39"
      },
      "execution_count": 2,
      "outputs": [
        {
          "output_type": "stream",
          "name": "stdout",
          "text": [
            "dataset\n",
            "utils\n"
          ]
        }
      ]
    },
    {
      "cell_type": "code",
      "source": [
        "!git remote add Kinetics-400-tutorial https://github.com/DoranLyong/Kinetics-400-tutorial\n",
        "!git pull Kinetics-400-tutorial main"
      ],
      "metadata": {
        "colab": {
          "base_uri": "https://localhost:8080/"
        },
        "id": "7BABKWngYhJN",
        "outputId": "e445cfe8-5033-49a5-b484-6b1442b29c07"
      },
      "execution_count": 3,
      "outputs": [
        {
          "output_type": "stream",
          "name": "stdout",
          "text": [
            "From https://github.com/DoranLyong/Kinetics-400-tutorial\n",
            " * branch            main       -> FETCH_HEAD\n",
            " * [new branch]      main       -> Kinetics-400-tutorial/main\n"
          ]
        }
      ]
    },
    {
      "cell_type": "markdown",
      "source": [
        "## 1-2. installing FFmpeg \n",
        "* for extracting frames of video data "
      ],
      "metadata": {
        "id": "MWIFUl71YpmR"
      }
    },
    {
      "cell_type": "code",
      "source": [
        "!sudo apt update \n",
        "!sudo apt install -y ffmpeg "
      ],
      "metadata": {
        "colab": {
          "base_uri": "https://localhost:8080/"
        },
        "id": "-iEag_KgYnZa",
        "outputId": "79e586ad-e9b3-4f43-d72d-35ddd174894e"
      },
      "execution_count": 4,
      "outputs": [
        {
          "output_type": "stream",
          "name": "stdout",
          "text": [
            "\u001b[33m\r0% [Working]\u001b[0m\r            \rGet:1 http://ppa.launchpad.net/c2d4u.team/c2d4u4.0+/ubuntu bionic InRelease [15.9 kB]\n",
            "\u001b[33m\r0% [Connecting to archive.ubuntu.com (91.189.91.39)] [Connecting to security.ub\u001b[0m\r                                                                               \rHit:2 https://developer.download.nvidia.com/compute/cuda/repos/ubuntu1804/x86_64  InRelease\n",
            "\u001b[33m\r0% [Connecting to archive.ubuntu.com (91.189.91.39)] [Connecting to security.ub\u001b[0m\r                                                                               \rGet:3 https://cloud.r-project.org/bin/linux/ubuntu bionic-cran40/ InRelease [3,626 B]\n",
            "\u001b[33m\r0% [Connecting to archive.ubuntu.com (91.189.91.39)] [Connecting to security.ub\u001b[0m\u001b[33m\r0% [2 InRelease gpgv 1,575 B] [Connecting to archive.ubuntu.com (91.189.91.39)]\u001b[0m\r                                                                               \rHit:4 http://ppa.launchpad.net/cran/libgit2/ubuntu bionic InRelease\n",
            "\u001b[33m\r0% [2 InRelease gpgv 1,575 B] [Connecting to archive.ubuntu.com (91.189.91.39)]\u001b[0m\r                                                                               \rHit:5 http://ppa.launchpad.net/deadsnakes/ppa/ubuntu bionic InRelease\n",
            "Hit:6 http://ppa.launchpad.net/graphics-drivers/ppa/ubuntu bionic InRelease\n",
            "Hit:7 http://archive.ubuntu.com/ubuntu bionic InRelease\n",
            "Get:8 http://security.ubuntu.com/ubuntu bionic-security InRelease [88.7 kB]\n",
            "Ign:9 https://developer.download.nvidia.com/compute/machine-learning/repos/ubuntu1804/x86_64  InRelease\n",
            "Hit:10 https://developer.download.nvidia.com/compute/machine-learning/repos/ubuntu1804/x86_64  Release\n",
            "Get:11 http://archive.ubuntu.com/ubuntu bionic-updates InRelease [88.7 kB]\n",
            "Get:12 http://ppa.launchpad.net/c2d4u.team/c2d4u4.0+/ubuntu bionic/main Sources [1,954 kB]\n",
            "Get:13 http://ppa.launchpad.net/c2d4u.team/c2d4u4.0+/ubuntu bionic/main amd64 Packages [1,001 kB]\n",
            "Get:14 http://archive.ubuntu.com/ubuntu bionic-backports InRelease [74.6 kB]\n",
            "Get:16 http://security.ubuntu.com/ubuntu bionic-security/universe amd64 Packages [1,498 kB]\n",
            "Get:17 http://archive.ubuntu.com/ubuntu bionic-updates/main amd64 Packages [3,168 kB]\n",
            "Get:18 http://security.ubuntu.com/ubuntu bionic-security/main amd64 Packages [2,734 kB]\n",
            "Get:19 http://archive.ubuntu.com/ubuntu bionic-updates/universe amd64 Packages [2,272 kB]\n",
            "Fetched 12.9 MB in 2s (6,297 kB/s)\n",
            "Reading package lists... Done\n",
            "Building dependency tree       \n",
            "Reading state information... Done\n",
            "50 packages can be upgraded. Run 'apt list --upgradable' to see them.\n",
            "Reading package lists... Done\n",
            "Building dependency tree       \n",
            "Reading state information... Done\n",
            "ffmpeg is already the newest version (7:3.4.8-0ubuntu0.2).\n",
            "The following packages were automatically installed and are no longer required:\n",
            "  libnvidia-common-460 nsight-compute-2020.2.0\n",
            "Use 'sudo apt autoremove' to remove them.\n",
            "0 upgraded, 0 newly installed, 0 to remove and 50 not upgraded.\n"
          ]
        }
      ]
    },
    {
      "cell_type": "code",
      "source": [
        "!ffmpeg -version"
      ],
      "metadata": {
        "colab": {
          "base_uri": "https://localhost:8080/"
        },
        "id": "UziivYvtYr6_",
        "outputId": "f331aa6b-bdd4-406c-a89c-967268f33093"
      },
      "execution_count": 5,
      "outputs": [
        {
          "output_type": "stream",
          "name": "stdout",
          "text": [
            "ffmpeg version 3.4.8-0ubuntu0.2 Copyright (c) 2000-2020 the FFmpeg developers\n",
            "built with gcc 7 (Ubuntu 7.5.0-3ubuntu1~18.04)\n",
            "configuration: --prefix=/usr --extra-version=0ubuntu0.2 --toolchain=hardened --libdir=/usr/lib/x86_64-linux-gnu --incdir=/usr/include/x86_64-linux-gnu --enable-gpl --disable-stripping --enable-avresample --enable-avisynth --enable-gnutls --enable-ladspa --enable-libass --enable-libbluray --enable-libbs2b --enable-libcaca --enable-libcdio --enable-libflite --enable-libfontconfig --enable-libfreetype --enable-libfribidi --enable-libgme --enable-libgsm --enable-libmp3lame --enable-libmysofa --enable-libopenjpeg --enable-libopenmpt --enable-libopus --enable-libpulse --enable-librubberband --enable-librsvg --enable-libshine --enable-libsnappy --enable-libsoxr --enable-libspeex --enable-libssh --enable-libtheora --enable-libtwolame --enable-libvorbis --enable-libvpx --enable-libwavpack --enable-libwebp --enable-libx265 --enable-libxml2 --enable-libxvid --enable-libzmq --enable-libzvbi --enable-omx --enable-openal --enable-opengl --enable-sdl2 --enable-libdc1394 --enable-libdrm --enable-libiec61883 --enable-chromaprint --enable-frei0r --enable-libopencv --enable-libx264 --enable-shared\n",
            "libavutil      55. 78.100 / 55. 78.100\n",
            "libavcodec     57.107.100 / 57.107.100\n",
            "libavformat    57. 83.100 / 57. 83.100\n",
            "libavdevice    57. 10.100 / 57. 10.100\n",
            "libavfilter     6.107.100 /  6.107.100\n",
            "libavresample   3.  7.  0 /  3.  7.  0\n",
            "libswscale      4.  8.100 /  4.  8.100\n",
            "libswresample   2.  9.100 /  2.  9.100\n",
            "libpostproc    54.  7.100 / 54.  7.100\n"
          ]
        }
      ]
    },
    {
      "cell_type": "markdown",
      "source": [
        "# 2. Data prepare\n",
        "change the 'project_root' path in ```utils/extract_frames.py``` ,then \n",
        "```python\n",
        "(...)\n",
        "@click.command()\n",
        "@click.option('--project_root', required=True, \n",
        "                default=osp.join('/content'),\n",
        "                help=\"Root path for dataset\")\n",
        "(...)\n",
        "\n",
        "```"
      ],
      "metadata": {
        "id": "mSdWtapZY1U-"
      }
    },
    {
      "cell_type": "code",
      "source": [
        "!pwd  # project root path "
      ],
      "metadata": {
        "colab": {
          "base_uri": "https://localhost:8080/"
        },
        "id": "H4tL0NcwZ0B1",
        "outputId": "a1d3d3e2-cb9a-4190-9dce-a7018679c7e7"
      },
      "execution_count": 6,
      "outputs": [
        {
          "output_type": "stream",
          "name": "stdout",
          "text": [
            "/content\n"
          ]
        }
      ]
    },
    {
      "cell_type": "code",
      "source": [
        "# Extract frames of video data \n",
        "!python ./utils/extract_frames.py"
      ],
      "metadata": {
        "colab": {
          "base_uri": "https://localhost:8080/"
        },
        "id": "-gnQYkh0Ytvn",
        "outputId": "ce521998-29c3-49ee-b136-a42fc3434079"
      },
      "execution_count": 8,
      "outputs": [
        {
          "output_type": "stream",
          "name": "stdout",
          "text": [
            "project_root: /content\n",
            "dataset_path: dataset/kinetics_videos\n",
            "class_list: ['arm wrestling', 'bungee jumping']\n",
            "Extracting frames for /content/dataset/kinetics_videos/arm wrestling/5JzkrOVhPOw_000027_000037.mp4\n",
            "Input #0, mov,mp4,m4a,3gp,3g2,mj2, from '/content/dataset/kinetics_videos/arm wrestling/5JzkrOVhPOw_000027_000037.mp4':\n",
            "  Metadata:\n",
            "    major_brand     : isom\n",
            "    minor_version   : 512\n",
            "    compatible_brands: isomiso2avc1mp41\n",
            "    encoder         : Lavf56.40.101\n",
            "  Duration: 00:00:10.01, start: 0.000000, bitrate: 1842 kb/s\n",
            "    Stream #0:0(und): Video: h264 (High) (avc1 / 0x31637661), yuv420p, 1280x720, 1741 kb/s, 30 fps, 30 tbr, 15360 tbn, 60 tbc (default)\n",
            "    Metadata:\n",
            "      handler_name    : VideoHandler\n",
            "    Stream #0:1(und): Audio: aac (LC) (mp4a / 0x6134706D), 44100 Hz, mono, fltp, 93 kb/s (default)\n",
            "    Metadata:\n",
            "      handler_name    : SoundHandler\n",
            "Stream mapping:\n",
            "  Stream #0:0 -> #0:0 (h264 (native) -> png (native))\n",
            "Press [q] to stop, [?] for help\n",
            "Output #0, image2, to '/content/dataset/kinetics_videos/arm wrestling/5JzkrOVhPOw_000027_000037/%05d.png':\n",
            "  Metadata:\n",
            "    major_brand     : isom\n",
            "    minor_version   : 512\n",
            "    compatible_brands: isomiso2avc1mp41\n",
            "    encoder         : Lavf57.83.100\n",
            "    Stream #0:0(und): Video: png, rgb24, 455x256, q=2-31, 200 kb/s, 30 fps, 30 tbn, 30 tbc (default)\n",
            "    Metadata:\n",
            "      handler_name    : VideoHandler\n",
            "      encoder         : Lavc57.107.100 png\n",
            "frame=  300 fps= 72 q=-0.0 Lsize=N/A time=00:00:10.00 bitrate=N/A speed= 2.4x    \n",
            "video:57640kB audio:0kB subtitle:0kB other streams:0kB global headers:0kB muxing overhead: unknown\n",
            "Extracting frames for /content/dataset/kinetics_videos/arm wrestling/BdMiTo_OtnU_000024_000034.mp4\n",
            "Input #0, mov,mp4,m4a,3gp,3g2,mj2, from '/content/dataset/kinetics_videos/arm wrestling/BdMiTo_OtnU_000024_000034.mp4':\n",
            "  Metadata:\n",
            "    major_brand     : isom\n",
            "    minor_version   : 512\n",
            "    compatible_brands: isomiso2avc1mp41\n",
            "    encoder         : Lavf56.40.101\n",
            "  Duration: 00:00:10.01, start: 0.000000, bitrate: 1775 kb/s\n",
            "    Stream #0:0(und): Video: h264 (High) (avc1 / 0x31637661), yuv420p, 1280x720 [SAR 1:1 DAR 16:9], 1639 kb/s, 30 fps, 30 tbr, 15360 tbn, 60 tbc (default)\n",
            "    Metadata:\n",
            "      handler_name    : VideoHandler\n",
            "    Stream #0:1(und): Audio: aac (LC) (mp4a / 0x6134706D), 44100 Hz, stereo, fltp, 127 kb/s (default)\n",
            "    Metadata:\n",
            "      handler_name    : SoundHandler\n",
            "Stream mapping:\n",
            "  Stream #0:0 -> #0:0 (h264 (native) -> png (native))\n",
            "Press [q] to stop, [?] for help\n",
            "Output #0, image2, to '/content/dataset/kinetics_videos/arm wrestling/BdMiTo_OtnU_000024_000034/%05d.png':\n",
            "  Metadata:\n",
            "    major_brand     : isom\n",
            "    minor_version   : 512\n",
            "    compatible_brands: isomiso2avc1mp41\n",
            "    encoder         : Lavf57.83.100\n",
            "    Stream #0:0(und): Video: png, rgb24, 455x256 [SAR 4096:4095 DAR 16:9], q=2-31, 200 kb/s, 30 fps, 30 tbn, 30 tbc (default)\n",
            "    Metadata:\n",
            "      handler_name    : VideoHandler\n",
            "      encoder         : Lavc57.107.100 png\n",
            "frame=  300 fps= 71 q=-0.0 Lsize=N/A time=00:00:10.00 bitrate=N/A speed=2.38x    \n",
            "video:64296kB audio:0kB subtitle:0kB other streams:0kB global headers:0kB muxing overhead: unknown\n",
            "Extracting frames for /content/dataset/kinetics_videos/arm wrestling/C4lCVBZ3ux0_000028_000038.mp4\n",
            "Input #0, mov,mp4,m4a,3gp,3g2,mj2, from '/content/dataset/kinetics_videos/arm wrestling/C4lCVBZ3ux0_000028_000038.mp4':\n",
            "  Metadata:\n",
            "    major_brand     : isom\n",
            "    minor_version   : 512\n",
            "    compatible_brands: isomiso2avc1mp41\n",
            "    encoder         : Lavf56.40.101\n",
            "  Duration: 00:00:10.02, start: 0.000000, bitrate: 1875 kb/s\n",
            "    Stream #0:0(und): Video: h264 (High) (avc1 / 0x31637661), yuv420p, 1280x720 [SAR 1:1 DAR 16:9], 1740 kb/s, 29.75 fps, 29.75 tbr, 15232 tbn, 59.50 tbc (default)\n",
            "    Metadata:\n",
            "      handler_name    : VideoHandler\n",
            "    Stream #0:1(und): Audio: aac (LC) (mp4a / 0x6134706D), 44100 Hz, stereo, fltp, 125 kb/s (default)\n",
            "    Metadata:\n",
            "      handler_name    : SoundHandler\n",
            "Stream mapping:\n",
            "  Stream #0:0 -> #0:0 (h264 (native) -> png (native))\n",
            "Press [q] to stop, [?] for help\n",
            "Output #0, image2, to '/content/dataset/kinetics_videos/arm wrestling/C4lCVBZ3ux0_000028_000038/%05d.png':\n",
            "  Metadata:\n",
            "    major_brand     : isom\n",
            "    minor_version   : 512\n",
            "    compatible_brands: isomiso2avc1mp41\n",
            "    encoder         : Lavf57.83.100\n",
            "    Stream #0:0(und): Video: png, rgb24, 455x256 [SAR 4096:4095 DAR 16:9], q=2-31, 200 kb/s, 29.75 fps, 29.75 tbn, 29.75 tbc (default)\n",
            "    Metadata:\n",
            "      handler_name    : VideoHandler\n",
            "      encoder         : Lavc57.107.100 png\n",
            "frame=  298 fps= 70 q=-0.0 Lsize=N/A time=00:00:10.01 bitrate=N/A speed=2.37x    \n",
            "video:58408kB audio:0kB subtitle:0kB other streams:0kB global headers:0kB muxing overhead: unknown\n",
            "Extracting frames for /content/dataset/kinetics_videos/arm wrestling/ehLnj7pXnYE_000027_000037.mp4\n",
            "Input #0, mov,mp4,m4a,3gp,3g2,mj2, from '/content/dataset/kinetics_videos/arm wrestling/ehLnj7pXnYE_000027_000037.mp4':\n",
            "  Metadata:\n",
            "    major_brand     : isom\n",
            "    minor_version   : 512\n",
            "    compatible_brands: isomiso2avc1mp41\n",
            "    encoder         : Lavf56.40.101\n",
            "  Duration: 00:00:10.01, start: 0.000000, bitrate: 647 kb/s\n",
            "    Stream #0:0(und): Video: h264 (High) (avc1 / 0x31637661), yuv420p, 640x360, 542 kb/s, 29.97 fps, 29.97 tbr, 30k tbn, 59.94 tbc (default)\n",
            "    Metadata:\n",
            "      handler_name    : VideoHandler\n",
            "    Stream #0:1(und): Audio: aac (LC) (mp4a / 0x6134706D), 44100 Hz, stereo, fltp, 96 kb/s (default)\n",
            "    Metadata:\n",
            "      handler_name    : SoundHandler\n",
            "Stream mapping:\n",
            "  Stream #0:0 -> #0:0 (h264 (native) -> png (native))\n",
            "Press [q] to stop, [?] for help\n",
            "Output #0, image2, to '/content/dataset/kinetics_videos/arm wrestling/ehLnj7pXnYE_000027_000037/%05d.png':\n",
            "  Metadata:\n",
            "    major_brand     : isom\n",
            "    minor_version   : 512\n",
            "    compatible_brands: isomiso2avc1mp41\n",
            "    encoder         : Lavf57.83.100\n",
            "    Stream #0:0(und): Video: png, rgb24, 455x256, q=2-31, 200 kb/s, 29.97 fps, 29.97 tbn, 29.97 tbc (default)\n",
            "    Metadata:\n",
            "      handler_name    : VideoHandler\n",
            "      encoder         : Lavc57.107.100 png\n",
            "frame=  300 fps= 93 q=-0.0 Lsize=N/A time=00:00:10.01 bitrate=N/A speed=3.09x    \n",
            "video:70295kB audio:0kB subtitle:0kB other streams:0kB global headers:0kB muxing overhead: unknown\n",
            "Extracting frames for /content/dataset/kinetics_videos/bungee jumping/b6yQZjPE26c_000023_000033.mp4\n",
            "Input #0, mov,mp4,m4a,3gp,3g2,mj2, from '/content/dataset/kinetics_videos/bungee jumping/b6yQZjPE26c_000023_000033.mp4':\n",
            "  Metadata:\n",
            "    major_brand     : isom\n",
            "    minor_version   : 512\n",
            "    compatible_brands: isomiso2avc1mp41\n",
            "    encoder         : Lavf56.40.101\n",
            "  Duration: 00:00:10.01, start: 0.000000, bitrate: 1673 kb/s\n",
            "    Stream #0:0(und): Video: h264 (High) (avc1 / 0x31637661), yuv420p, 1280x720 [SAR 1:1 DAR 16:9], 1472 kb/s, 30 fps, 30 tbr, 15360 tbn, 60 tbc (default)\n",
            "    Metadata:\n",
            "      handler_name    : VideoHandler\n",
            "    Stream #0:1(und): Audio: aac (LC) (mp4a / 0x6134706D), 44100 Hz, stereo, fltp, 192 kb/s (default)\n",
            "    Metadata:\n",
            "      handler_name    : SoundHandler\n",
            "Stream mapping:\n",
            "  Stream #0:0 -> #0:0 (h264 (native) -> png (native))\n",
            "Press [q] to stop, [?] for help\n",
            "Output #0, image2, to '/content/dataset/kinetics_videos/bungee jumping/b6yQZjPE26c_000023_000033/%05d.png':\n",
            "  Metadata:\n",
            "    major_brand     : isom\n",
            "    minor_version   : 512\n",
            "    compatible_brands: isomiso2avc1mp41\n",
            "    encoder         : Lavf57.83.100\n",
            "    Stream #0:0(und): Video: png, rgb24, 455x256 [SAR 4096:4095 DAR 16:9], q=2-31, 200 kb/s, 30 fps, 30 tbn, 30 tbc (default)\n",
            "    Metadata:\n",
            "      handler_name    : VideoHandler\n",
            "      encoder         : Lavc57.107.100 png\n",
            "frame=  300 fps= 90 q=-0.0 Lsize=N/A time=00:00:10.00 bitrate=N/A speed=3.01x    \n",
            "video:26165kB audio:0kB subtitle:0kB other streams:0kB global headers:0kB muxing overhead: unknown\n",
            "Extracting frames for /content/dataset/kinetics_videos/bungee jumping/dAeUFSdYG1I_000010_000020.mp4\n",
            "Input #0, mov,mp4,m4a,3gp,3g2,mj2, from '/content/dataset/kinetics_videos/bungee jumping/dAeUFSdYG1I_000010_000020.mp4':\n",
            "  Metadata:\n",
            "    major_brand     : isom\n",
            "    minor_version   : 512\n",
            "    compatible_brands: isomiso2avc1mp41\n",
            "    encoder         : Lavf56.40.101\n",
            "  Duration: 00:00:10.01, start: 0.000000, bitrate: 425 kb/s\n",
            "    Stream #0:0(und): Video: h264 (High) (avc1 / 0x31637661), yuv420p, 480x360, 344 kb/s, 29.97 fps, 29.97 tbr, 30k tbn, 59.94 tbc (default)\n",
            "    Metadata:\n",
            "      handler_name    : VideoHandler\n",
            "    Stream #0:1(und): Audio: aac (LC) (mp4a / 0x6134706D), 44100 Hz, mono, fltp, 71 kb/s (default)\n",
            "    Metadata:\n",
            "      handler_name    : SoundHandler\n",
            "Stream mapping:\n",
            "  Stream #0:0 -> #0:0 (h264 (native) -> png (native))\n",
            "Press [q] to stop, [?] for help\n",
            "Output #0, image2, to '/content/dataset/kinetics_videos/bungee jumping/dAeUFSdYG1I_000010_000020/%05d.png':\n",
            "  Metadata:\n",
            "    major_brand     : isom\n",
            "    minor_version   : 512\n",
            "    compatible_brands: isomiso2avc1mp41\n",
            "    encoder         : Lavf57.83.100\n",
            "    Stream #0:0(und): Video: png, rgb24, 341x256, q=2-31, 200 kb/s, 29.97 fps, 29.97 tbn, 29.97 tbc (default)\n",
            "    Metadata:\n",
            "      handler_name    : VideoHandler\n",
            "      encoder         : Lavc57.107.100 png\n",
            "frame=  300 fps=190 q=-0.0 Lsize=N/A time=00:00:10.01 bitrate=N/A speed=6.35x    \n",
            "video:17317kB audio:0kB subtitle:0kB other streams:0kB global headers:0kB muxing overhead: unknown\n",
            "Extracting frames for /content/dataset/kinetics_videos/bungee jumping/TUvSX0pYu4o_000002_000012.mp4\n",
            "Input #0, mov,mp4,m4a,3gp,3g2,mj2, from '/content/dataset/kinetics_videos/bungee jumping/TUvSX0pYu4o_000002_000012.mp4':\n",
            "  Metadata:\n",
            "    major_brand     : isom\n",
            "    minor_version   : 512\n",
            "    compatible_brands: isomiso2avc1mp41\n",
            "    encoder         : Lavf56.40.101\n",
            "  Duration: 00:00:10.01, start: 0.000000, bitrate: 3067 kb/s\n",
            "    Stream #0:0(und): Video: h264 (High) (avc1 / 0x31637661), yuv420p, 1280x720 [SAR 1:1 DAR 16:9], 2962 kb/s, 29.97 fps, 29.97 tbr, 30k tbn, 59.94 tbc (default)\n",
            "    Metadata:\n",
            "      handler_name    : VideoHandler\n",
            "    Stream #0:1(und): Audio: aac (LC) (mp4a / 0x6134706D), 44100 Hz, mono, fltp, 95 kb/s (default)\n",
            "    Metadata:\n",
            "      handler_name    : SoundHandler\n",
            "Stream mapping:\n",
            "  Stream #0:0 -> #0:0 (h264 (native) -> png (native))\n",
            "Press [q] to stop, [?] for help\n",
            "Output #0, image2, to '/content/dataset/kinetics_videos/bungee jumping/TUvSX0pYu4o_000002_000012/%05d.png':\n",
            "  Metadata:\n",
            "    major_brand     : isom\n",
            "    minor_version   : 512\n",
            "    compatible_brands: isomiso2avc1mp41\n",
            "    encoder         : Lavf57.83.100\n",
            "    Stream #0:0(und): Video: png, rgb24, 455x256 [SAR 4096:4095 DAR 16:9], q=2-31, 200 kb/s, 29.97 fps, 29.97 tbn, 29.97 tbc (default)\n",
            "    Metadata:\n",
            "      handler_name    : VideoHandler\n",
            "      encoder         : Lavc57.107.100 png\n",
            "frame=  300 fps= 62 q=-0.0 Lsize=N/A time=00:00:10.01 bitrate=N/A speed=2.06x    \n",
            "video:71872kB audio:0kB subtitle:0kB other streams:0kB global headers:0kB muxing overhead: unknown\n",
            "Extracting frames for /content/dataset/kinetics_videos/bungee jumping/zkXOcxGnUhs_000025_000035.mp4\n",
            "Input #0, mov,mp4,m4a,3gp,3g2,mj2, from '/content/dataset/kinetics_videos/bungee jumping/zkXOcxGnUhs_000025_000035.mp4':\n",
            "  Metadata:\n",
            "    major_brand     : isom\n",
            "    minor_version   : 512\n",
            "    compatible_brands: isomiso2avc1mp41\n",
            "    encoder         : Lavf56.40.101\n",
            "  Duration: 00:00:10.01, start: 0.000000, bitrate: 471 kb/s\n",
            "    Stream #0:0(und): Video: h264 (High) (avc1 / 0x31637661), yuv420p, 480x360 [SAR 1:1 DAR 4:3], 366 kb/s, 29.97 fps, 29.97 tbr, 30k tbn, 59.94 tbc (default)\n",
            "    Metadata:\n",
            "      handler_name    : VideoHandler\n",
            "    Stream #0:1(eng): Audio: aac (LC) (mp4a / 0x6134706D), 44100 Hz, stereo, fltp, 95 kb/s (default)\n",
            "    Metadata:\n",
            "      handler_name    : SoundHandler\n",
            "Stream mapping:\n",
            "  Stream #0:0 -> #0:0 (h264 (native) -> png (native))\n",
            "Press [q] to stop, [?] for help\n",
            "Output #0, image2, to '/content/dataset/kinetics_videos/bungee jumping/zkXOcxGnUhs_000025_000035/%05d.png':\n",
            "  Metadata:\n",
            "    major_brand     : isom\n",
            "    minor_version   : 512\n",
            "    compatible_brands: isomiso2avc1mp41\n",
            "    encoder         : Lavf57.83.100\n",
            "    Stream #0:0(und): Video: png, rgb24, 341x256 [SAR 1024:1023 DAR 4:3], q=2-31, 200 kb/s, 29.97 fps, 29.97 tbn, 29.97 tbc (default)\n",
            "    Metadata:\n",
            "      handler_name    : VideoHandler\n",
            "      encoder         : Lavc57.107.100 png\n",
            "frame=  300 fps=134 q=-0.0 Lsize=N/A time=00:00:10.01 bitrate=N/A speed=4.48x    \n",
            "video:37770kB audio:0kB subtitle:0kB other streams:0kB global headers:0kB muxing overhead: unknown\n"
          ]
        }
      ]
    },
    {
      "cell_type": "markdown",
      "source": [
        "# 3. PyTorch Dataset and DataLoader "
      ],
      "metadata": {
        "id": "TNsRBpHehk_V"
      }
    },
    {
      "cell_type": "code",
      "source": [
        "import os \n",
        "import os.path as osp \n",
        "import glob \n",
        "import csv \n",
        "\n",
        "import numpy as np \n",
        "from PIL import Image \n",
        "import matplotlib.pyplot as plt \n",
        "\n",
        "import torch \n",
        "import torch.nn as nn \n",
        "import torch.utils.data as data \n",
        "\n",
        "import torchvision\n",
        "\n",
        "from utils.kinetics400_dataloader import make_datapath_list, get_label_id_dictionary, VideoTransform, VideoDataset"
      ],
      "metadata": {
        "id": "GwBZL8FTgwiR"
      },
      "execution_count": 11,
      "outputs": []
    },
    {
      "cell_type": "markdown",
      "source": [
        "## 3-1. get labels "
      ],
      "metadata": {
        "id": "ey5RtiBEiLMu"
      }
    },
    {
      "cell_type": "code",
      "source": [
        "label_dicitionary_path = f'./dataset/anno/kinetics_400_label_dicitionary.csv'\n",
        "label_id_dict, id_label_dict = get_label_id_dictionary(label_dicitionary_path)"
      ],
      "metadata": {
        "id": "rDVJ56ATh7up"
      },
      "execution_count": 14,
      "outputs": []
    },
    {
      "cell_type": "code",
      "source": [
        "#print(id_label_dict)\n",
        "print(label_id_dict)"
      ],
      "metadata": {
        "colab": {
          "base_uri": "https://localhost:8080/"
        },
        "id": "MdeeYlTAiRq7",
        "outputId": "8ad7fa22-8008-4d95-e744-8db0817b9b2b"
      },
      "execution_count": 15,
      "outputs": [
        {
          "output_type": "stream",
          "name": "stdout",
          "text": [
            "{'abseiling': 0, 'air drumming': 1, 'answering questions': 2, 'applauding': 3, 'applying cream': 4, 'archery': 5, 'arm wrestling': 6, 'arranging flowers': 7, 'assembling computer': 8, 'auctioning': 9, 'baby waking up': 10, 'baking cookies': 11, 'balloon blowing': 12, 'bandaging': 13, 'barbequing': 14, 'bartending': 15, 'beatboxing': 16, 'bee keeping': 17, 'belly dancing': 18, 'bench pressing': 19, 'bending back': 20, 'bending metal': 21, 'biking through snow': 22, 'blasting sand': 23, 'blowing glass': 24, 'blowing leaves': 25, 'blowing nose': 26, 'blowing out candles': 27, 'bobsledding': 28, 'bookbinding': 29, 'bouncing on trampoline': 30, 'bowling': 31, 'braiding hair': 32, 'breading or breadcrumbing': 33, 'breakdancing': 34, 'brush painting': 35, 'brushing hair': 36, 'brushing teeth': 37, 'building cabinet': 38, 'building shed': 39, 'bungee jumping': 40, 'busking': 41, 'canoeing or kayaking': 42, 'capoeira': 43, 'carrying baby': 44, 'cartwheeling': 45, 'carving pumpkin': 46, 'catching fish': 47, 'catching or throwing baseball': 48, 'catching or throwing frisbee': 49, 'catching or throwing softball': 50, 'celebrating': 51, 'changing oil': 52, 'changing wheel': 53, 'checking tires': 54, 'cheerleading': 55, 'chopping wood': 56, 'clapping': 57, 'clay pottery making': 58, 'clean and jerk': 59, 'cleaning floor': 60, 'cleaning gutters': 61, 'cleaning pool': 62, 'cleaning shoes': 63, 'cleaning toilet': 64, 'cleaning windows': 65, 'climbing a rope': 66, 'climbing ladder': 67, 'climbing tree': 68, 'contact juggling': 69, 'cooking chicken': 70, 'cooking egg': 71, 'cooking on campfire': 72, 'cooking sausages': 73, 'counting money': 74, 'country line dancing': 75, 'cracking neck': 76, 'crawling baby': 77, 'crossing river': 78, 'crying': 79, 'curling hair': 80, 'cutting nails': 81, 'cutting pineapple': 82, 'cutting watermelon': 83, 'dancing ballet': 84, 'dancing charleston': 85, 'dancing gangnam style': 86, 'dancing macarena': 87, 'deadlifting': 88, 'decorating the christmas tree': 89, 'digging': 90, 'dining': 91, 'disc golfing': 92, 'diving cliff': 93, 'dodgeball': 94, 'doing aerobics': 95, 'doing laundry': 96, 'doing nails': 97, 'drawing': 98, 'dribbling basketball': 99, 'drinking': 100, 'drinking beer': 101, 'drinking shots': 102, 'driving car': 103, 'driving tractor': 104, 'drop kicking': 105, 'drumming fingers': 106, 'dunking basketball': 107, 'dying hair': 108, 'eating burger': 109, 'eating cake': 110, 'eating carrots': 111, 'eating chips': 112, 'eating doughnuts': 113, 'eating hotdog': 114, 'eating ice cream': 115, 'eating spaghetti': 116, 'eating watermelon': 117, 'egg hunting': 118, 'exercising arm': 119, 'exercising with an exercise ball': 120, 'extinguishing fire': 121, 'faceplanting': 122, 'feeding birds': 123, 'feeding fish': 124, 'feeding goats': 125, 'filling eyebrows': 126, 'finger snapping': 127, 'fixing hair': 128, 'flipping pancake': 129, 'flying kite': 130, 'folding clothes': 131, 'folding napkins': 132, 'folding paper': 133, 'front raises': 134, 'frying vegetables': 135, 'garbage collecting': 136, 'gargling': 137, 'getting a haircut': 138, 'getting a tattoo': 139, 'giving or receiving award': 140, 'golf chipping': 141, 'golf driving': 142, 'golf putting': 143, 'grinding meat': 144, 'grooming dog': 145, 'grooming horse': 146, 'gymnastics tumbling': 147, 'hammer throw': 148, 'headbanging': 149, 'headbutting': 150, 'high jump': 151, 'high kick': 152, 'hitting baseball': 153, 'hockey stop': 154, 'holding snake': 155, 'hopscotch': 156, 'hoverboarding': 157, 'hugging': 158, 'hula hooping': 159, 'hurdling': 160, 'hurling (sport)': 161, 'ice climbing': 162, 'ice fishing': 163, 'ice skating': 164, 'ironing': 165, 'javelin throw': 166, 'jetskiing': 167, 'jogging': 168, 'juggling balls': 169, 'juggling fire': 170, 'juggling soccer ball': 171, 'jumping into pool': 172, 'jumpstyle dancing': 173, 'kicking field goal': 174, 'kicking soccer ball': 175, 'kissing': 176, 'kitesurfing': 177, 'knitting': 178, 'krumping': 179, 'laughing': 180, 'laying bricks': 181, 'long jump': 182, 'lunge': 183, 'making a cake': 184, 'making a sandwich': 185, 'making bed': 186, 'making jewelry': 187, 'making pizza': 188, 'making snowman': 189, 'making sushi': 190, 'making tea': 191, 'marching': 192, 'massaging back': 193, 'massaging feet': 194, 'massaging legs': 195, \"massaging person's head\": 196, 'milking cow': 197, 'mopping floor': 198, 'motorcycling': 199, 'moving furniture': 200, 'mowing lawn': 201, 'news anchoring': 202, 'opening bottle': 203, 'opening present': 204, 'paragliding': 205, 'parasailing': 206, 'parkour': 207, 'passing American football (in game)': 208, 'passing American football (not in game)': 209, 'peeling apples': 210, 'peeling potatoes': 211, 'petting animal (not cat)': 212, 'petting cat': 213, 'picking fruit': 214, 'planting trees': 215, 'plastering': 216, 'playing accordion': 217, 'playing badminton': 218, 'playing bagpipes': 219, 'playing basketball': 220, 'playing bass guitar': 221, 'playing cards': 222, 'playing cello': 223, 'playing chess': 224, 'playing clarinet': 225, 'playing controller': 226, 'playing cricket': 227, 'playing cymbals': 228, 'playing didgeridoo': 229, 'playing drums': 230, 'playing flute': 231, 'playing guitar': 232, 'playing harmonica': 233, 'playing harp': 234, 'playing ice hockey': 235, 'playing keyboard': 236, 'playing kickball': 237, 'playing monopoly': 238, 'playing organ': 239, 'playing paintball': 240, 'playing piano': 241, 'playing poker': 242, 'playing recorder': 243, 'playing saxophone': 244, 'playing squash or racquetball': 245, 'playing tennis': 246, 'playing trombone': 247, 'playing trumpet': 248, 'playing ukulele': 249, 'playing violin': 250, 'playing volleyball': 251, 'playing xylophone': 252, 'pole vault': 253, 'presenting weather forecast': 254, 'pull ups': 255, 'pumping fist': 256, 'pumping gas': 257, 'punching bag': 258, 'punching person (boxing)': 259, 'push up': 260, 'pushing car': 261, 'pushing cart': 262, 'pushing wheelchair': 263, 'reading book': 264, 'reading newspaper': 265, 'recording music': 266, 'riding a bike': 267, 'riding camel': 268, 'riding elephant': 269, 'riding mechanical bull': 270, 'riding mountain bike': 271, 'riding mule': 272, 'riding or walking with horse': 273, 'riding scooter': 274, 'riding unicycle': 275, 'ripping paper': 276, 'robot dancing': 277, 'rock climbing': 278, 'rock scissors paper': 279, 'roller skating': 280, 'running on treadmill': 281, 'sailing': 282, 'salsa dancing': 283, 'sanding floor': 284, 'scrambling eggs': 285, 'scuba diving': 286, 'setting table': 287, 'shaking hands': 288, 'shaking head': 289, 'sharpening knives': 290, 'sharpening pencil': 291, 'shaving head': 292, 'shaving legs': 293, 'shearing sheep': 294, 'shining shoes': 295, 'shooting basketball': 296, 'shooting goal (soccer)': 297, 'shot put': 298, 'shoveling snow': 299, 'shredding paper': 300, 'shuffling cards': 301, 'side kick': 302, 'sign language interpreting': 303, 'singing': 304, 'situp': 305, 'skateboarding': 306, 'ski jumping': 307, 'skiing (not slalom or crosscountry)': 308, 'skiing crosscountry': 309, 'skiing slalom': 310, 'skipping rope': 311, 'skydiving': 312, 'slacklining': 313, 'slapping': 314, 'sled dog racing': 315, 'smoking': 316, 'smoking hookah': 317, 'snatch weight lifting': 318, 'sneezing': 319, 'sniffing': 320, 'snorkeling': 321, 'snowboarding': 322, 'snowkiting': 323, 'snowmobiling': 324, 'somersaulting': 325, 'spinning poi': 326, 'spray painting': 327, 'spraying': 328, 'springboard diving': 329, 'squat': 330, 'sticking tongue out': 331, 'stomping grapes': 332, 'stretching arm': 333, 'stretching leg': 334, 'strumming guitar': 335, 'surfing crowd': 336, 'surfing water': 337, 'sweeping floor': 338, 'swimming backstroke': 339, 'swimming breast stroke': 340, 'swimming butterfly stroke': 341, 'swing dancing': 342, 'swinging legs': 343, 'swinging on something': 344, 'sword fighting': 345, 'tai chi': 346, 'taking a shower': 347, 'tango dancing': 348, 'tap dancing': 349, 'tapping guitar': 350, 'tapping pen': 351, 'tasting beer': 352, 'tasting food': 353, 'testifying': 354, 'texting': 355, 'throwing axe': 356, 'throwing ball': 357, 'throwing discus': 358, 'tickling': 359, 'tobogganing': 360, 'tossing coin': 361, 'tossing salad': 362, 'training dog': 363, 'trapezing': 364, 'trimming or shaving beard': 365, 'trimming trees': 366, 'triple jump': 367, 'tying bow tie': 368, 'tying knot (not on a tie)': 369, 'tying tie': 370, 'unboxing': 371, 'unloading truck': 372, 'using computer': 373, 'using remote controller (not gaming)': 374, 'using segway': 375, 'vault': 376, 'waiting in line': 377, 'walking the dog': 378, 'washing dishes': 379, 'washing feet': 380, 'washing hair': 381, 'washing hands': 382, 'water skiing': 383, 'water sliding': 384, 'watering plants': 385, 'waxing back': 386, 'waxing chest': 387, 'waxing eyebrows': 388, 'waxing legs': 389, 'weaving basket': 390, 'welding': 391, 'whistling': 392, 'windsurfing': 393, 'wrapping present': 394, 'wrestling': 395, 'writing': 396, 'yawning': 397, 'yoga': 398, 'zumba': 399}\n"
          ]
        }
      ]
    },
    {
      "cell_type": "markdown",
      "source": [
        "## 3-2. get video list "
      ],
      "metadata": {
        "id": "aUaxObnSibYT"
      }
    },
    {
      "cell_type": "code",
      "source": [
        "dataset_root = f\"./dataset/kinetics_videos\"\n",
        "video_list = make_datapath_list(dataset_root)\n",
        "\n",
        "print(video_list)"
      ],
      "metadata": {
        "colab": {
          "base_uri": "https://localhost:8080/"
        },
        "id": "8yloLT0xiUKL",
        "outputId": "58a249ef-3e78-4479-86eb-ddd65eb992f8"
      },
      "execution_count": 19,
      "outputs": [
        {
          "output_type": "stream",
          "name": "stdout",
          "text": [
            "['./dataset/kinetics_videos/arm wrestling/BdMiTo_OtnU_000024_000034', './dataset/kinetics_videos/arm wrestling/5JzkrOVhPOw_000027_000037', './dataset/kinetics_videos/arm wrestling/C4lCVBZ3ux0_000028_000038', './dataset/kinetics_videos/arm wrestling/ehLnj7pXnYE_000027_000037', './dataset/kinetics_videos/bungee jumping/TUvSX0pYu4o_000002_000012', './dataset/kinetics_videos/bungee jumping/zkXOcxGnUhs_000025_000035', './dataset/kinetics_videos/bungee jumping/dAeUFSdYG1I_000010_000020', './dataset/kinetics_videos/bungee jumping/b6yQZjPE26c_000023_000033']\n"
          ]
        }
      ]
    },
    {
      "cell_type": "markdown",
      "source": [
        "## 3-3. torch dataset "
      ],
      "metadata": {
        "id": "rW7f8MQ4jUTZ"
      }
    },
    {
      "cell_type": "code",
      "source": [
        "# 전처리 설정\n",
        "resize, crop_size = 224, 224\n",
        "mean, std = [104, 117, 123], [1, 1, 1]\n",
        "video_transform = VideoTransform(resize, crop_size, mean, std)\n",
        "\n",
        "\n",
        "# Dataset 작성\n",
        "# num_segments는 동영상을 어떻게 분할해 사용할지 정한다\n",
        "val_dataset = VideoDataset(video_list, label_id_dict, num_segments=16,\n",
        "                           phase=\"val\", transform=video_transform, img_tmpl='{:05d}.png')"
      ],
      "metadata": {
        "colab": {
          "base_uri": "https://localhost:8080/"
        },
        "id": "d10zsP_ZifrP",
        "outputId": "07ddec28-9fe1-4324-d0d1-634598e43f9e"
      },
      "execution_count": 20,
      "outputs": [
        {
          "output_type": "stream",
          "name": "stderr",
          "text": [
            "/usr/local/lib/python3.7/dist-packages/torchvision/transforms/transforms.py:333: UserWarning: Argument interpolation should be of type InterpolationMode instead of int. Please, use InterpolationMode enum.\n",
            "  \"Argument interpolation should be of type InterpolationMode instead of int. \"\n"
          ]
        }
      ]
    },
    {
      "cell_type": "code",
      "source": [
        "# 데이터를 꺼내는 예\n",
        "# 출력은 imgs_transformed, label, label_id, dir_path\n",
        "index = 0\n",
        "sample = val_dataset.__getitem__(index)\n",
        "\n",
        "print(sample[0].shape)  # 동영상의 텐서\n",
        "print(sample[1])  # 라벨\n",
        "print(sample[2])  # 라벨ID\n",
        "print(sample[3])  # 동영상 경로"
      ],
      "metadata": {
        "colab": {
          "base_uri": "https://localhost:8080/"
        },
        "id": "btoLbe2ajXIn",
        "outputId": "f141141d-63b7-4061-ef31-ff4ab01000d0"
      },
      "execution_count": 21,
      "outputs": [
        {
          "output_type": "stream",
          "name": "stdout",
          "text": [
            "torch.Size([16, 3, 224, 224])\n",
            "arm wrestling\n",
            "6\n",
            "./dataset/kinetics_videos/arm wrestling/BdMiTo_OtnU_000024_000034\n"
          ]
        }
      ]
    },
    {
      "cell_type": "markdown",
      "source": [
        "## 3-4. torch dataloader "
      ],
      "metadata": {
        "id": "Y_K_bYX2jbdX"
      }
    },
    {
      "cell_type": "code",
      "source": [
        "batch_size = 8\n",
        "\n",
        "val_dataloader = data.DataLoader( val_dataset, \n",
        "                                batch_size=batch_size, \n",
        "                                shuffle=False)"
      ],
      "metadata": {
        "id": "EnnWAF10jY_u"
      },
      "execution_count": 22,
      "outputs": []
    },
    {
      "cell_type": "code",
      "source": [
        "# 동작 확인\n",
        "batch_iterator = iter(val_dataloader)  # 반복자로 변환\n",
        "imgs_transformeds, labels, label_ids, dir_path = next(batch_iterator)  # 1번째 요소를 꺼낸다\n",
        "\n",
        "print(imgs_transformeds.shape)"
      ],
      "metadata": {
        "colab": {
          "base_uri": "https://localhost:8080/"
        },
        "id": "l-zTFZymjh7o",
        "outputId": "6c83272b-2bdc-4cfc-b7a9-00e2ddd4c865"
      },
      "execution_count": 23,
      "outputs": [
        {
          "output_type": "stream",
          "name": "stdout",
          "text": [
            "torch.Size([8, 16, 3, 224, 224])\n"
          ]
        }
      ]
    },
    {
      "cell_type": "code",
      "source": [
        ""
      ],
      "metadata": {
        "id": "5N9h4VCRjkjR"
      },
      "execution_count": null,
      "outputs": []
    }
  ]
}